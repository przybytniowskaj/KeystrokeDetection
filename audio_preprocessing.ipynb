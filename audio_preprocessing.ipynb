{
 "cells": [
  {
   "cell_type": "markdown",
   "metadata": {},
   "source": [
    "Idea of this notebook:\n",
    "- separate keys with process_audio_files function\n",
    "- ideally for both datasets (practical_dl and MKA)\n",
    "- remember optimal tresholds and do some majority voting in future data loader\n",
    "\n",
    "save separated audio in folder structure:\n",
    "- processed data\n",
    "    - train/val/test\n",
    "        - label \n",
    "            - segmented recordings\n",
    "- later add there also files from https://www.kaggle.com/datasets/nguyncaoduy/keystroke-noiseless-final\n",
    "\n",
    "Idea for DataLoader:\n",
    "- Separate audio for 10ms frames\n",
    "- Calculate energylevel in each frame, if the treshold is exceeded then enlargen the frame with subsequent 90ms or so"
   ]
  },
  {
   "cell_type": "code",
   "execution_count": null,
   "metadata": {},
   "outputs": [],
   "source": [
    "import os\n",
    "from tqdm import tqdm\n",
    "import shutil\n",
    "from sklearn.model_selection import train_test_split\n",
    "\n",
    "from src.utils.data_engineering_utils import process_audio_files"
   ]
  },
  {
   "cell_type": "markdown",
   "metadata": {},
   "source": [
    "### `MKA` and `Practical_dl` datasets preprocessing"
   ]
  },
  {
   "cell_type": "code",
   "execution_count": null,
   "metadata": {},
   "outputs": [],
   "source": [
    "OUTPUT_DIR = \"./data/final/\"\n",
    "os.makedirs(OUTPUT_DIR, exist_ok=True)\n",
    "OUTPUT_DIR_IMG = \"./data/final_img/\"\n",
    "os.makedirs(OUTPUT_DIR_IMG, exist_ok=True)\n",
    "\n",
    "DATA_DIR = './data/raw_data/MKA/Mac/Raw Data/'\n",
    "DATASET = 'mka'\n",
    "\n",
    "process_audio_files(DATA_DIR, OUTPUT_DIR, OUTPUT_DIR_IMG, DATASET, True)\n",
    "\n",
    "DATA_DIR = './data/raw_data/practical_dl/'\n",
    "DATASET = 'practical'\n",
    "process_audio_files(DATA_DIR, OUTPUT_DIR, OUTPUT_DIR_IMG, DATASET, True)\n"
   ]
  },
  {
   "cell_type": "code",
   "execution_count": null,
   "metadata": {},
   "outputs": [
    {
     "name": "stderr",
     "output_type": "stream",
     "text": [
      "Processing files in : 100%|██████████| 64/64 [00:20<00:00,  3.19it/s]\n"
     ]
    }
   ],
   "source": [
    "DATA_DIR = './data/raw_data/custom_mac/'\n",
    "DATASET = 'custom_mac'\n",
    "\n",
    "process_audio_files(DATA_DIR, OUTPUT_DIR, OUTPUT_DIR_IMG, DATASET, True)"
   ]
  },
  {
   "cell_type": "code",
   "execution_count": null,
   "metadata": {},
   "outputs": [
    {
     "name": "stderr",
     "output_type": "stream",
     "text": [
      "Processing files in : 100%|██████████| 63/63 [00:17<00:00,  3.61it/s]\n"
     ]
    }
   ],
   "source": [
    "DATA_DIR = './data/raw_data/custom_dishwasher/'\n",
    "DATASET = 'custom_dishwasher'\n",
    "\n",
    "process_audio_files(DATA_DIR, OUTPUT_DIR, OUTPUT_DIR_IMG, DATASET, True)"
   ]
  },
  {
   "cell_type": "code",
   "execution_count": null,
   "metadata": {},
   "outputs": [
    {
     "name": "stderr",
     "output_type": "stream",
     "text": [
      "Processing files in : 100%|██████████| 63/63 [00:15<00:00,  4.10it/s]\n"
     ]
    }
   ],
   "source": [
    "DATA_DIR = './data/raw_data/custom_washingmachine/'\n",
    "DATASET = 'custom_washing_machine'\n",
    "\n",
    "process_audio_files(DATA_DIR, OUTPUT_DIR, OUTPUT_DIR_IMG, DATASET, True)"
   ]
  },
  {
   "cell_type": "code",
   "execution_count": 2,
   "metadata": {},
   "outputs": [
    {
     "name": "stderr",
     "output_type": "stream",
     "text": [
      "Processing files in : 100%|██████████| 63/63 [00:17<00:00,  3.67it/s]\n"
     ]
    }
   ],
   "source": [
    "DATA_DIR = './data/raw_data/custom_open_window/'\n",
    "DATASET = 'custom_open_window'\n",
    "\n",
    "process_audio_files(DATA_DIR, OUTPUT_DIR, OUTPUT_DIR_IMG, DATASET, True)"
   ]
  },
  {
   "cell_type": "code",
   "execution_count": null,
   "metadata": {},
   "outputs": [],
   "source": []
  },
  {
   "cell_type": "markdown",
   "metadata": {},
   "source": [
    "### `Noiseless` Dataset"
   ]
  },
  {
   "cell_type": "code",
   "execution_count": null,
   "metadata": {},
   "outputs": [],
   "source": [
    "SOURCE_DIR = './data/raw_data/data_noiseless_final/'\n",
    "DATA_DIR_NOISELESS = './data/raw_data/noiseless/'\n",
    "\n",
    "labels_in_dir_new = set()\n",
    "for dirname, _, filenames in os.walk(SOURCE_DIR):\n",
    "    for filename in filenames:\n",
    "        if filename.endswith('.wav'):\n",
    "            label = filename.split('-')[1]\n",
    "            label_dir = os.path.join(DATA_DIR_NOISELESS, label)\n",
    "            if not os.path.exists(label_dir):\n",
    "                os.makedirs(label_dir)\n",
    "\n",
    "            src_path = os.path.join(dirname, filename)\n",
    "            filename_new = 'mac_live_' + label + '_' + filename.split('-')[-1].split('.')[0] + '.wav'\n",
    "            dst_path = os.path.join(label_dir, filename_new)\n",
    "\n",
    "            shutil.copy(src_path, dst_path)"
   ]
  },
  {
   "cell_type": "code",
   "execution_count": 11,
   "metadata": {},
   "outputs": [],
   "source": [
    "def move_files(file_paths, subset_name):\n",
    "    for file_path in file_paths:\n",
    "        label = file_path.split('/')[-2]\n",
    "\n",
    "        if not os.path.exists(os.path.join(OUTPUT_DIR, subset_name, 'noiseless', label)):\n",
    "            os.makedirs(os.path.join(OUTPUT_DIR, subset_name, 'noiseless', label), exist_ok=True)\n",
    "\n",
    "        file_name = os.path.basename(file_path)\n",
    "        dest_path = os.path.join(OUTPUT_DIR, subset_name, 'noiseless', label, file_name)\n",
    "\n",
    "        shutil.move(file_path, dest_path)"
   ]
  },
  {
   "cell_type": "code",
   "execution_count": null,
   "metadata": {},
   "outputs": [],
   "source": [
    "for key in os.listdir(DATA_DIR_NOISELESS):\n",
    "    key_dir = os.path.join(DATA_DIR_NOISELESS, key)\n",
    "    if os.path.isdir(key_dir):\n",
    "        files = [os.path.join(key_dir, f) for f in os.listdir(key_dir) if f.endswith('.wav')]\n",
    "        train_files, temp_files = train_test_split(files, test_size=0.3, random_state=42)\n",
    "        val_files, test_files = train_test_split(temp_files, test_size=0.5, random_state=42)\n",
    "\n",
    "        move_files(train_files, 'train')\n",
    "        move_files(val_files, 'val')\n",
    "        move_files(test_files, 'test')"
   ]
  },
  {
   "cell_type": "code",
   "execution_count": null,
   "metadata": {},
   "outputs": [],
   "source": []
  }
 ],
 "metadata": {
  "kernelspec": {
   "display_name": "thesis",
   "language": "python",
   "name": "python3"
  },
  "language_info": {
   "codemirror_mode": {
    "name": "ipython",
    "version": 3
   },
   "file_extension": ".py",
   "mimetype": "text/x-python",
   "name": "python",
   "nbconvert_exporter": "python",
   "pygments_lexer": "ipython3",
   "version": "3.11.11"
  }
 },
 "nbformat": 4,
 "nbformat_minor": 2
}
