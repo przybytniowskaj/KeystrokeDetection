{
 "cells": [
  {
   "cell_type": "markdown",
   "metadata": {},
   "source": [
    "Idea of this notebook:\n",
    "- separate keys with process_audio_files function\n",
    "- ideally for both datasets (practical_dl and MKA)\n",
    "- remember optimal tresholds and do some majority voting in future data loader\n",
    "\n",
    "save separated audio in folder structure:\n",
    "- processed data\n",
    "    - train/val/test\n",
    "        - label \n",
    "            - segmented recordings\n",
    "- later add there also files from https://www.kaggle.com/datasets/nguyncaoduy/keystroke-noiseless-final\n",
    "\n",
    "Idea for DataLoader:\n",
    "- Separate audio for 10ms frames\n",
    "- Calculate energylevel in each frame, if the treshold is exceeded then enlargen the frame with subsequent 90ms or so"
   ]
  },
  {
   "cell_type": "code",
   "execution_count": 2,
   "metadata": {},
   "outputs": [],
   "source": [
    "from tqdm import tqdm\n",
    "import os\n",
    "from src.utils.data_engineering_utils import process_audio_files"
   ]
  },
  {
   "cell_type": "code",
   "execution_count": null,
   "metadata": {},
   "outputs": [],
   "source": [
    "OUTPUT_DIR = \"./data/isolated_keystrokes/\"\n",
    "os.makedirs(OUTPUT_DIR, exist_ok=True)\n",
    "\n",
    "OUTPUT_DIR_IMG = \"./data/isolated_keystrokes_img/\"\n",
    "os.makedirs(OUTPUT_DIR_IMG, exist_ok=True)"
   ]
  },
  {
   "cell_type": "code",
   "execution_count": null,
   "metadata": {},
   "outputs": [
    {
     "name": "stderr",
     "output_type": "stream",
     "text": [
      "Processing files in : 100%|██████████| 1/1 [00:00<00:00, 16980.99it/s]\n",
      "Processing files in MBPWavs:   0%|          | 0/36 [00:00<?, ?it/s]"
     ]
    },
    {
     "name": "stderr",
     "output_type": "stream",
     "text": [
      "Processing files in MBPWavs: 100%|██████████| 36/36 [00:15<00:00,  2.40it/s]\n",
      "Processing files in Zoom: 100%|██████████| 36/36 [00:10<00:00,  3.36it/s]\n",
      "Processing files in .git: 100%|██████████| 5/5 [00:00<00:00, 183960.70it/s]\n",
      "Processing files in objects: 0it [00:00, ?it/s]\n",
      "Processing files in pack: 100%|██████████| 3/3 [00:00<00:00, 157286.40it/s]\n",
      "Processing files in info: 0it [00:00, ?it/s]\n",
      "Processing files in info: 100%|██████████| 1/1 [00:00<00:00, 65536.00it/s]\n",
      "Processing files in logs: 100%|██████████| 1/1 [00:00<00:00, 71089.90it/s]\n",
      "Processing files in refs: 0it [00:00, ?it/s]\n",
      "Processing files in heads: 100%|██████████| 1/1 [00:00<00:00, 65536.00it/s]\n",
      "Processing files in remotes: 0it [00:00, ?it/s]\n",
      "Processing files in origin: 100%|██████████| 1/1 [00:00<00:00, 65536.00it/s]\n",
      "Processing files in hooks: 100%|██████████| 14/14 [00:00<00:00, 947100.90it/s]\n",
      "Processing files in refs: 0it [00:00, ?it/s]\n",
      "Processing files in heads: 100%|██████████| 1/1 [00:00<00:00, 71089.90it/s]\n",
      "Processing files in tags: 0it [00:00, ?it/s]\n",
      "Processing files in remotes: 0it [00:00, ?it/s]\n",
      "Processing files in origin: 100%|██████████| 1/1 [00:00<00:00, 59918.63it/s]\n"
     ]
    }
   ],
   "source": [
    "AUDIO_FILE = './data/practical_dl/'\n",
    "PREFIX = 'practical_dl'\n",
    "\n",
    "process_audio_files(AUDIO_FILE, OUTPUT_DIR, OUTPUT_DIR_IMG, PREFIX, num_keystrokes=25, save_plots=True, show_plots=False)"
   ]
  },
  {
   "cell_type": "code",
   "execution_count": 4,
   "metadata": {},
   "outputs": [
    {
     "name": "stderr",
     "output_type": "stream",
     "text": [
      "Processing files in : 100%|██████████| 900/900 [00:00<00:00, 20664.88it/s]\n"
     ]
    }
   ],
   "source": [
    "# rename files - should be already updated in original function\n",
    "for root, dirs, files in os.walk(OUTPUT_DIR):\n",
    "        subfolder = os.path.basename(root)\n",
    "        for file in tqdm(files, desc=f\"Processing files in {subfolder}\"):\n",
    "            if file.endswith('.wav'):\n",
    "                loc = os.path.join(root, file)\n",
    "                old_name = file.split('_')\n",
    "                old_name_num = old_name[-1].split('.')[0]\n",
    "                new_name = f\"{old_name[0]}_{old_name[1]}_{old_name[2]}_{str(int(old_name_num))}.wav\"\n",
    "                new_loc = os.path.join(root, new_name)\n",
    "                os.rename(loc, new_loc)"
   ]
  },
  {
   "cell_type": "markdown",
   "metadata": {},
   "source": [
    "MKA dataset has not yet been segmented"
   ]
  },
  {
   "cell_type": "code",
   "execution_count": null,
   "metadata": {},
   "outputs": [],
   "source": [
    "OUTPUT_DIR = \"./data/isolated_keystrokes_tests/\"\n",
    "os.makedirs(OUTPUT_DIR, exist_ok=True)\n",
    "\n",
    "OUTPUT_DIR_IMG = \"./data/isolated_keystrokes_img_tests/\"\n",
    "os.makedirs(OUTPUT_DIR_IMG, exist_ok=True)"
   ]
  },
  {
   "cell_type": "code",
   "execution_count": null,
   "metadata": {},
   "outputs": [],
   "source": [
    "# AUDIO_FILE = './data/MKA/All Dataset/Raw Data/'\n",
    "# PREFIX = 'MKA'\n",
    "\n",
    "# process_audio_files(AUDIO_FILE, OUTPUT_DIR, OUTPUT_DIR_IMG, PREFIX, num_keystrokes=30, save_plots=True, show_plots=True)"
   ]
  },
  {
   "cell_type": "code",
   "execution_count": null,
   "metadata": {},
   "outputs": [],
   "source": []
  },
  {
   "cell_type": "markdown",
   "metadata": {},
   "source": [
    "### Trim the leading silence from data"
   ]
  },
  {
   "cell_type": "code",
   "execution_count": null,
   "metadata": {},
   "outputs": [],
   "source": [
    "from src.utils.data_engineering_utils import get_audio_lengths, trim_silence_in_directory\n",
    "import shutil\n",
    "DATA_DIR = './data/isolated_keystrokes/'\n",
    "TRIMMED_DATA_DIR = './data/isolated_keystrokes_trimmed/'"
   ]
  },
  {
   "cell_type": "code",
   "execution_count": 6,
   "metadata": {},
   "outputs": [
    {
     "data": {
      "text/plain": [
       "(0.9090909090909091, 0.8361818181818181, 0.9090098989898948, 900)"
      ]
     },
     "execution_count": 6,
     "metadata": {},
     "output_type": "execute_result"
    }
   ],
   "source": [
    "get_audio_lengths(DATA_DIR)"
   ]
  },
  {
   "cell_type": "code",
   "execution_count": 7,
   "metadata": {},
   "outputs": [
    {
     "data": {
      "text/plain": [
       "14"
      ]
     },
     "execution_count": 7,
     "metadata": {},
     "output_type": "execute_result"
    }
   ],
   "source": [
    "count = trim_silence_in_directory(DATA_DIR, TRIMMED_DATA_DIR, min_length=600)\n",
    "count"
   ]
  },
  {
   "cell_type": "code",
   "execution_count": 8,
   "metadata": {},
   "outputs": [
    {
     "data": {
      "text/plain": [
       "(0.909, 0.6, 0.9046988888888828, 900)"
      ]
     },
     "execution_count": 8,
     "metadata": {},
     "output_type": "execute_result"
    }
   ],
   "source": [
    "get_audio_lengths(TRIMMED_DATA_DIR)"
   ]
  },
  {
   "cell_type": "code",
   "execution_count": 9,
   "metadata": {},
   "outputs": [],
   "source": [
    "labels_in_dir = set()\n",
    "for dirname, _, filenames in os.walk(TRIMMED_DATA_DIR):\n",
    "    for filename in filenames:\n",
    "        if filename.endswith('.wav'):\n",
    "            label = filename.split('_')[2]\n",
    "            labels_in_dir.add(label)\n",
    "labels = list(labels_in_dir)"
   ]
  },
  {
   "cell_type": "code",
   "execution_count": null,
   "metadata": {},
   "outputs": [],
   "source": [
    "FINAL_DATA_DIR = \"./data/final_keystrokes/\"\n",
    "\n",
    "for label in labels:\n",
    "    label_dir = os.path.join(FINAL_DATA_DIR, label)\n",
    "    if not os.path.exists(label_dir):\n",
    "        os.makedirs(label_dir)\n",
    "\n",
    "for root, _, files in os.walk(TRIMMED_DATA_DIR):\n",
    "    for filename in files:\n",
    "        if filename.endswith('.wav'):\n",
    "            label = filename.split('_')[2]\n",
    "            src_path = os.path.join(root, filename)\n",
    "            dst_path = os.path.join(FINAL_DATA_DIR, label, filename)\n",
    "            shutil.move(src_path, dst_path)"
   ]
  },
  {
   "cell_type": "code",
   "execution_count": null,
   "metadata": {},
   "outputs": [],
   "source": [
    "from sklearn.model_selection import train_test_split\n",
    "\n",
    "for split in ['train', 'val', 'test']:\n",
    "    for label in labels:\n",
    "        os.makedirs(os.path.join(FINAL_DATA_DIR, split, label), exist_ok=True)\n",
    "\n",
    "# Function to move files to the appropriate directory\n",
    "def move_files(file_paths, subset_name):\n",
    "    for file_path in file_paths:\n",
    "        label = file_path.split('/')[-2]\n",
    "        file_name = os.path.basename(file_path)\n",
    "        dest_path = os.path.join(FINAL_DATA_DIR, subset_name, label, file_name)\n",
    "        shutil.move(file_path, dest_path)"
   ]
  },
  {
   "cell_type": "code",
   "execution_count": null,
   "metadata": {},
   "outputs": [],
   "source": [
    "for label in labels:\n",
    "    label_dir = os.path.join(FINAL_DATA_DIR, label)\n",
    "    files = [os.path.join(label_dir, f) for f in os.listdir(label_dir) if os.path.isfile(os.path.join(label_dir, f))]\n",
    "    train_files, temp_files = train_test_split(files, test_size=0.3, random_state=42)\n",
    "    val_files, test_files = train_test_split(temp_files, test_size=0.5, random_state=42)\n",
    "\n",
    "    move_files(train_files, 'train')\n",
    "    move_files(val_files, 'val')\n",
    "    move_files(test_files, 'test')"
   ]
  },
  {
   "cell_type": "code",
   "execution_count": null,
   "metadata": {},
   "outputs": [],
   "source": [
    "for label in labels:\n",
    "    label_dir = os.path.join(FINAL_DATA_DIR, label)\n",
    "    if not os.listdir(label_dir):\n",
    "        os.rmdir(label_dir)"
   ]
  },
  {
   "cell_type": "code",
   "execution_count": 3,
   "metadata": {},
   "outputs": [],
   "source": [
    "SOURCE_DIR = './data/data_noiseless_final/'\n",
    "\n",
    "labels_in_dir_new = set()\n",
    "for dirname, _, filenames in os.walk(SOURCE_DIR):\n",
    "    for filename in filenames:\n",
    "        if filename.endswith('.wav'):\n",
    "            label = filename.split('-')[1]\n",
    "            labels_in_dir_new.add(label)\n",
    "labels_new = list(labels_in_dir_new)"
   ]
  },
  {
   "cell_type": "code",
   "execution_count": null,
   "metadata": {},
   "outputs": [],
   "source": [
    "for label in labels_new:\n",
    "    label_dir = os.path.join(SOURCE_DIR, label)\n",
    "    if not os.path.exists(label_dir):\n",
    "        os.makedirs(label_dir)\n",
    "\n",
    "for root, _, files in os.walk(SOURCE_DIR):\n",
    "    for filename in files:\n",
    "        if filename.endswith('.wav'):\n",
    "            label = filename.split('-')[1]\n",
    "            src_path = os.path.join(root, filename)\n",
    "            if label in labels:\n",
    "                filename_new = 'mac_live_' + label + '_' + str(24+int(filename.split('-')[-1].split('.')[0])) + '.wav'\n",
    "            else:\n",
    "                filename_new = 'mac_live_' + label + '_' + str(int(filename.split('-')[-1].split('.')[0])) + '.wav'\n",
    "            dst_path = os.path.join(SOURCE_DIR, label, filename_new)\n",
    "            shutil.move(src_path, dst_path)"
   ]
  },
  {
   "cell_type": "code",
   "execution_count": 40,
   "metadata": {},
   "outputs": [],
   "source": [
    "# Function to move files to the appropriate directory\n",
    "def move_files(file_paths, subset_name):\n",
    "    for file_path in file_paths:\n",
    "        label = file_path.split('/')[-2]\n",
    "\n",
    "        if not os.path.exists(os.path.join(FINAL_DATA_DIR, subset_name, label)):\n",
    "            os.makedirs(os.path.join(FINAL_DATA_DIR, subset_name, label), exist_ok=True)\n",
    "\n",
    "        file_name = os.path.basename(file_path)\n",
    "        dest_path = os.path.join(FINAL_DATA_DIR, subset_name, label, file_name)\n",
    "\n",
    "        shutil.move(file_path, dest_path)\n",
    "\n",
    "# Iterate through each key in the source directory\n",
    "for key in os.listdir(SOURCE_DIR):\n",
    "    key_dir = os.path.join(SOURCE_DIR, key)\n",
    "    if os.path.isdir(key_dir):\n",
    "        files = [os.path.join(key_dir, f) for f in os.listdir(key_dir) if f.endswith('.wav')]\n",
    "        train_files, temp_files = train_test_split(files, test_size=0.3, random_state=42)\n",
    "        val_files, test_files = train_test_split(temp_files, test_size=0.5, random_state=42)\n",
    "\n",
    "        move_files(train_files, 'train')\n",
    "        move_files(val_files, 'val')\n",
    "        move_files(test_files, 'test')"
   ]
  }
 ],
 "metadata": {
  "kernelspec": {
   "display_name": "thesis",
   "language": "python",
   "name": "python3"
  },
  "language_info": {
   "codemirror_mode": {
    "name": "ipython",
    "version": 3
   },
   "file_extension": ".py",
   "mimetype": "text/x-python",
   "name": "python",
   "nbconvert_exporter": "python",
   "pygments_lexer": "ipython3",
   "version": "3.11.11"
  }
 },
 "nbformat": 4,
 "nbformat_minor": 2
}
