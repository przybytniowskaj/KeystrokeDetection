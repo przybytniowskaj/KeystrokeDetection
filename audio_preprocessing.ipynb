{
 "cells": [
  {
   "cell_type": "markdown",
   "metadata": {},
   "source": [
    "Idea of this notebook:\n",
    "- separate keys with process_audio_files function\n",
    "- ideally for both datasets (practical_dl and MKA)\n",
    "- remember optimal tresholds and do some majority voting in future data loader\n",
    "\n",
    "save separated audio in folder structure:\n",
    "- processed data\n",
    "    - train/val/test\n",
    "        - label \n",
    "            - segmented recordings\n",
    "- later add there also files from https://www.kaggle.com/datasets/nguyncaoduy/keystroke-noiseless-final\n",
    "\n",
    "Idea for DataLoader:\n",
    "- Separate audio for 10ms frames\n",
    "- Calculate energylevel in each frame, if the treshold is exceeded then enlargen the frame with subsequent 90ms or so"
   ]
  },
  {
   "cell_type": "code",
   "execution_count": 11,
   "metadata": {},
   "outputs": [],
   "source": [
    "from tqdm import tqdm\n",
    "import os\n",
    "from preprocessing_utils import process_audio_files"
   ]
  },
  {
   "cell_type": "code",
   "execution_count": 4,
   "metadata": {},
   "outputs": [],
   "source": [
    "OUTPUT_DIR = \"./Data/isolated_keystrokes/\"\n",
    "os.makedirs(OUTPUT_DIR, exist_ok=True)\n",
    "\n",
    "OUTPUT_DIR_IMG = \"./Data/isolated_keystrokes_img/\"\n",
    "os.makedirs(OUTPUT_DIR_IMG, exist_ok=True)"
   ]
  },
  {
   "cell_type": "code",
   "execution_count": 3,
   "metadata": {},
   "outputs": [
    {
     "name": "stderr",
     "output_type": "stream",
     "text": [
      "Processing files in : 100%|██████████| 1/1 [00:00<00:00, 26379.27it/s]\n",
      "Processing files in MBPWavs: 100%|██████████| 36/36 [00:12<00:00,  2.90it/s]\n",
      "Processing files in Zoom: 100%|██████████| 36/36 [00:10<00:00,  3.28it/s]\n",
      "Processing files in .git: 100%|██████████| 5/5 [00:00<00:00, 238312.73it/s]\n",
      "Processing files in objects: 0it [00:00, ?it/s]\n",
      "Processing files in pack: 100%|██████████| 3/3 [00:00<00:00, 165564.63it/s]\n",
      "Processing files in info: 0it [00:00, ?it/s]\n",
      "Processing files in info: 100%|██████████| 1/1 [00:00<00:00, 52428.80it/s]\n",
      "Processing files in logs: 100%|██████████| 1/1 [00:00<00:00, 66576.25it/s]\n",
      "Processing files in refs: 0it [00:00, ?it/s]\n",
      "Processing files in heads: 100%|██████████| 1/1 [00:00<00:00, 66576.25it/s]\n",
      "Processing files in remotes: 0it [00:00, ?it/s]\n",
      "Processing files in origin: 100%|██████████| 1/1 [00:00<00:00, 66576.25it/s]\n",
      "Processing files in hooks: 100%|██████████| 14/14 [00:00<00:00, 932067.56it/s]\n",
      "Processing files in refs: 0it [00:00, ?it/s]\n",
      "Processing files in heads: 100%|██████████| 1/1 [00:00<00:00, 76260.07it/s]\n",
      "Processing files in tags: 0it [00:00, ?it/s]\n",
      "Processing files in remotes: 0it [00:00, ?it/s]\n",
      "Processing files in origin: 100%|██████████| 1/1 [00:00<00:00, 59918.63it/s]\n"
     ]
    }
   ],
   "source": [
    "AUDIO_FILE = './Data/practical_dl/'\n",
    "PREFIX = 'practical_dl'\n",
    "\n",
    "process_audio_files(AUDIO_FILE, OUTPUT_DIR, OUTPUT_DIR_IMG, PREFIX, num_keystrokes=25, save_plots=True, show_plots=False)"
   ]
  },
  {
   "cell_type": "code",
   "execution_count": 19,
   "metadata": {},
   "outputs": [
    {
     "name": "stderr",
     "output_type": "stream",
     "text": [
      "Processing files in : 100%|██████████| 2393/2393 [00:00<00:00, 26228.65it/s]\n"
     ]
    }
   ],
   "source": [
    "# rename files - should be already updated in original function\n",
    "for root, dirs, files in os.walk(OUTPUT_DIR):\n",
    "        subfolder = os.path.basename(root)\n",
    "        for file in tqdm(files, desc=f\"Processing files in {subfolder}\"):\n",
    "            if file.endswith('.wav'):\n",
    "                loc = os.path.join(root, file)\n",
    "                old_name = file.split('_')\n",
    "                old_name_num = old_name[-1].split('.')[0]\n",
    "                new_name = f\"{old_name[0]}_{old_name[1]}_{old_name[2]}_{str(int(old_name_num))}.wav\"\n",
    "                new_loc = os.path.join(root, new_name)\n",
    "                os.rename(loc, new_loc)"
   ]
  },
  {
   "cell_type": "markdown",
   "metadata": {},
   "source": [
    "MKA dataset has not yet been segmented"
   ]
  },
  {
   "cell_type": "code",
   "execution_count": null,
   "metadata": {},
   "outputs": [],
   "source": [
    "OUTPUT_DIR = \"./Data/isolated_keystrokes_tests/\"\n",
    "os.makedirs(OUTPUT_DIR, exist_ok=True)\n",
    "\n",
    "OUTPUT_DIR_IMG = \"./Data/isolated_keystrokes_img_tests/\"\n",
    "os.makedirs(OUTPUT_DIR_IMG, exist_ok=True)"
   ]
  },
  {
   "cell_type": "code",
   "execution_count": 1,
   "metadata": {},
   "outputs": [],
   "source": [
    "# AUDIO_FILE = './Data/MKA/All Dataset/Raw Data/'\n",
    "# PREFIX = 'MKA'\n",
    "\n",
    "# process_audio_files(AUDIO_FILE, OUTPUT_DIR, OUTPUT_DIR_IMG, PREFIX, num_keystrokes=30, save_plots=True, show_plots=True)"
   ]
  },
  {
   "cell_type": "code",
   "execution_count": null,
   "metadata": {},
   "outputs": [],
   "source": []
  },
  {
   "cell_type": "markdown",
   "metadata": {},
   "source": [
    "### Trim the leading silence from data"
   ]
  },
  {
   "cell_type": "code",
   "execution_count": 4,
   "metadata": {},
   "outputs": [],
   "source": [
    "from preprocessing_utils import get_audio_lengths, trim_silence_in_directory\n",
    "import shutil\n",
    "DATA_DIR = './Data/isolated_keystrokes/'\n",
    "TRIMMED_DATA_DIR = './Data/isolated_keystrokes_trimmed/'"
   ]
  },
  {
   "cell_type": "code",
   "execution_count": 5,
   "metadata": {},
   "outputs": [
    {
     "data": {
      "text/plain": [
       "(0.9090909090909091, 0.47745454545454546, 0.8029219156998437, 2389)"
      ]
     },
     "execution_count": 5,
     "metadata": {},
     "output_type": "execute_result"
    }
   ],
   "source": [
    "get_audio_lengths(DATA_DIR)"
   ]
  },
  {
   "cell_type": "code",
   "execution_count": 8,
   "metadata": {},
   "outputs": [
    {
     "data": {
      "text/plain": [
       "10"
      ]
     },
     "execution_count": 8,
     "metadata": {},
     "output_type": "execute_result"
    }
   ],
   "source": [
    "count = trim_silence_in_directory(DATA_DIR, TRIMMED_DATA_DIR, min_length=600)\n",
    "count"
   ]
  },
  {
   "cell_type": "code",
   "execution_count": 9,
   "metadata": {},
   "outputs": [
    {
     "data": {
      "text/plain": [
       "(0.909, 0.477, 0.80174213729029, 2389)"
      ]
     },
     "execution_count": 9,
     "metadata": {},
     "output_type": "execute_result"
    }
   ],
   "source": [
    "get_audio_lengths(TRIMMED_DATA_DIR)"
   ]
  },
  {
   "cell_type": "code",
   "execution_count": 22,
   "metadata": {},
   "outputs": [],
   "source": [
    "labels_in_dir = set()\n",
    "for dirname, _, filenames in os.walk(DATA_DIR):\n",
    "    for filename in filenames:\n",
    "        if filename.endswith('.wav'):\n",
    "            label = filename.split('_')[2]\n",
    "            labels_in_dir.add(label)\n",
    "labels = list(labels_in_dir)"
   ]
  },
  {
   "cell_type": "code",
   "execution_count": 23,
   "metadata": {},
   "outputs": [],
   "source": [
    "labels_dict = {val: i for i, val in enumerate(labels, start=1)}"
   ]
  },
  {
   "cell_type": "code",
   "execution_count": null,
   "metadata": {},
   "outputs": [],
   "source": [
    "FINAL_DATA_DIR = \"./Data/final_keystrokes/\"\n",
    "\n",
    "for label in labels:\n",
    "    label_dir = os.path.join(FINAL_DATA_DIR, label)\n",
    "    if not os.path.exists(label_dir):\n",
    "        os.makedirs(label_dir)\n",
    "\n",
    "for root, _, files in os.walk(TRIMMED_DATA_DIR):\n",
    "    for filename in files:\n",
    "        if filename.endswith('.wav'):\n",
    "            label = filename.split('_')[2]\n",
    "            src_path = os.path.join(root, filename)\n",
    "            dst_path = os.path.join(FINAL_DATA_DIR, label, filename)\n",
    "            shutil.copy(src_path, dst_path)"
   ]
  },
  {
   "cell_type": "code",
   "execution_count": null,
   "metadata": {},
   "outputs": [],
   "source": [
    "from sklearn.model_selection import train_test_split\n",
    "\n",
    "for split in ['train', 'val', 'test']:\n",
    "    for label in labels:\n",
    "        os.makedirs(os.path.join(DATA_DIR, split, label), exist_ok=True)\n",
    "\n",
    "# Function to move files to the appropriate directory\n",
    "def move_files(file_paths, subset_name):\n",
    "    for file_path in file_paths:\n",
    "        label = file_path.split('/')[-2]\n",
    "        file_name = os.path.basename(file_path)\n",
    "        dest_path = os.path.join(DATA_DIR, subset_name, label, file_name)\n",
    "        shutil.move(file_path, dest_path)\n",
    "\n",
    "# Split files for each label\n",
    "for label in labels:\n",
    "    label_dir = os.path.join(DATA_DIR, label)\n",
    "    files = [os.path.join(label_dir, f) for f in os.listdir(label_dir) if os.path.isfile(os.path.join(label_dir, f))]\n",
    "    train_files, temp_files = train_test_split(files, test_size=0.3, random_state=42)\n",
    "    val_files, test_files = train_test_split(temp_files, test_size=0.5, random_state=42)\n",
    "\n",
    "    move_files(train_files, 'train')\n",
    "    move_files(val_files, 'val')\n",
    "    move_files(test_files, 'test')\n",
    "    # Remove empty folders\n",
    "    for label in labels:\n",
    "        label_dir = os.path.join(DATA_DIR, label)\n",
    "        if not os.listdir(label_dir):\n",
    "            os.rmdir(label_dir)"
   ]
  }
 ],
 "metadata": {
  "kernelspec": {
   "display_name": "thesis",
   "language": "python",
   "name": "python3"
  },
  "language_info": {
   "codemirror_mode": {
    "name": "ipython",
    "version": 3
   },
   "file_extension": ".py",
   "mimetype": "text/x-python",
   "name": "python",
   "nbconvert_exporter": "python",
   "pygments_lexer": "ipython3",
   "version": "3.11.11"
  }
 },
 "nbformat": 4,
 "nbformat_minor": 2
}
