{
 "cells": [
  {
   "cell_type": "markdown",
   "id": "7eb84ccd",
   "metadata": {},
   "source": [
    "## Evaluation of Best Models"
   ]
  },
  {
   "cell_type": "code",
   "execution_count": 1,
   "id": "49f093ec",
   "metadata": {},
   "outputs": [
    {
     "name": "stderr",
     "output_type": "stream",
     "text": [
      "/Users/juliaprzybytniowska/miniconda3/envs/thesis/lib/python3.11/site-packages/tqdm/auto.py:21: TqdmWarning: IProgress not found. Please update jupyter and ipywidgets. See https://ipywidgets.readthedocs.io/en/stable/user_install.html\n",
      "  from .autonotebook import tqdm as notebook_tqdm\n"
     ]
    },
    {
     "data": {
      "text/plain": [
       "True"
      ]
     },
     "execution_count": 1,
     "metadata": {},
     "output_type": "execute_result"
    }
   ],
   "source": [
    "import os\n",
    "import sys\n",
    "sys.path.append(os.path.abspath('./../src'))\n",
    "from time import sleep\n",
    "\n",
    "from utils.evaluation import process_sentences_with_model, enhance_predictions_with_llm, save_results\n",
    "\n",
    "from dotenv import load_dotenv\n",
    "load_dotenv()"
   ]
  },
  {
   "cell_type": "code",
   "execution_count": 2,
   "id": "8ee3f55f",
   "metadata": {},
   "outputs": [],
   "source": [
    "ROOT = '/Users/juliaprzybytniowska/Documents/Master Degree/Master Thesis/KeystrokeDetection/data/final/test/'\n",
    "MODEL_ROOT = '/Users/juliaprzybytniowska/Desktop/interim_coatnet_segmented/all_dataset'"
   ]
  },
  {
   "cell_type": "markdown",
   "id": "f47753c9",
   "metadata": {},
   "source": [
    "### Alphanumeric"
   ]
  },
  {
   "cell_type": "code",
   "execution_count": null,
   "id": "e6ff2238",
   "metadata": {},
   "outputs": [],
   "source": [
    "alnum_best_models = [\n",
    "    \"moat_bigger_window_adam_CosineAnnealingLR_lr_3e-05_wd_0.05_special_keys_False_all_64_in_lr_True\",\n",
    "    # fail \"moat_default_adam_CosineAnnealingLR_lr_0.0001_wd_0.05_special_keys_False_all_128_in_lr_True\",\n",
    "    \"coatnet_default_adam_chained_lr_5e-05_partial_wd_0.05_special_keys_False_all_128_in_lr_True\",\n",
    "    # fail \"moat_bigger_adam_CosineAnnealingLR_lr_3e-05_wd_0.05_special_keys_False_all_64_in_lr_True\",\n",
    "    \"moat_default_window_adam_CosineAnnealingLR_lr_0.0001_wd_0.05_special_keys_False_all_64_in_lr_True\",\n",
    "    \"coatnet_bigger_adam_CosineAnnealingLR_lr_0.0001_partial_wd_0.05_special_keys_False_all_128_in_lr_True\"\n",
    "]"
   ]
  },
  {
   "cell_type": "code",
   "execution_count": null,
   "id": "9bd28480",
   "metadata": {},
   "outputs": [
    {
     "name": "stdout",
     "output_type": "stream",
     "text": [
      "Processing model: moat_bigger_window_adam_CosineAnnealingLR_lr_3e-05_wd_0.05_special_keys_False_all_64_in_lr_True\n",
      "Results saved to /Users/juliaprzybytniowska/Desktop/interim_coatnet_segmented/all_dataset/moat/moat_bigger_window_adam_CosineAnnealingLR_lr_3e-05_wd_0.05_special_keys_False_all_64_in_lr_True/evaluation.csv\n",
      "Processing model: coatnet_default_adam_chained_lr_5e-05_partial_wd_0.05_special_keys_False_all_128_in_lr_True\n",
      "Results saved to /Users/juliaprzybytniowska/Desktop/interim_coatnet_segmented/all_dataset/coatnet/coatnet_default_adam_chained_lr_5e-05_partial_wd_0.05_special_keys_False_all_128_in_lr_True/evaluation.csv\n",
      "Processing model: moat_default_window_adam_CosineAnnealingLR_lr_0.0001_wd_0.05_special_keys_False_all_64_in_lr_True\n",
      "Results saved to /Users/juliaprzybytniowska/Desktop/interim_coatnet_segmented/all_dataset/moat/moat_default_window_adam_CosineAnnealingLR_lr_0.0001_wd_0.05_special_keys_False_all_64_in_lr_True/evaluation.csv\n",
      "Processing model: coatnet_bigger_adam_CosineAnnealingLR_lr_0.0001_partial_wd_0.05_special_keys_False_all_128_in_lr_True\n",
      "Results saved to /Users/juliaprzybytniowska/Desktop/interim_coatnet_segmented/all_dataset/coatnet/coatnet_bigger_adam_CosineAnnealingLR_lr_0.0001_partial_wd_0.05_special_keys_False_all_128_in_lr_True/evaluation.csv\n"
     ]
    }
   ],
   "source": [
    "for model_name in alnum_best_models:\n",
    "    print(f\"Processing model: {model_name}\")\n",
    "    name = model_name.split('_')[0]\n",
    "    results = process_sentences_with_model(ROOT, MODEL_ROOT, model_name)\n",
    "    enhanced_results = enhance_predictions_with_llm(results, model_name=\"gemini\", temperature=0.0)\n",
    "    enhanced_results = enhance_predictions_with_llm(enhanced_results, model_name=\"gpt-oss\", temperature=0.0)\n",
    "    save_results(enhanced_results, MODEL_ROOT + \"/\" + name + \"/\" + model_name)\n",
    "    sleep(45)"
   ]
  },
  {
   "cell_type": "markdown",
   "id": "27ba8898",
   "metadata": {},
   "source": [
    "### All keys "
   ]
  },
  {
   "cell_type": "code",
   "execution_count": null,
   "id": "e849d729",
   "metadata": {},
   "outputs": [],
   "source": [
    "MODEL_NAME = \"coatnet_bigger_adam_CosineAnnealingLR_lr_0.0001_partial_wd_0.05_special_keys_True_all_128_in_lr_True_unmapped\"\n",
    "MODEL_NAME = \"moat_bigger_adam_CosineAnnealingLR_lr_5e-05_wd_0.05_special_keys_True_all_128_in_lr_True_unmapped\"\n",
    "MODEL_NAME = \"moat_bigger_window_adam_chained_lr_5e-05_wd_0.05_special_keys_True_all_64_in_lr_True_unmapped\"\n",
    "MODEL_NAME = \"moat_default_window_adam_CosineAnnealingLR_lr_0.0001_wd_0.05_special_keys_True_all_128_in_lr_True_unmapped\"\n",
    "MODEL_NAME = \"coatnet_default_adam_chained_lr_5e-05_partial_wd_0.05_special_keys_True_all_128_in_lr_True_unmapped\"\n",
    "\n",
    "special_best_models = [\n",
    "    # \"coatnet_bigger_adam_CosineAnnealingLR_lr_0.0001_partial_wd_0.05_special_keys_True_all_128_in_lr_True_unmapped\",\n",
    "    # fail \"moat_bigger_adam_CosineAnnealingLR_lr_5e-05_wd_0.05_special_keys_True_all_128_in_lr_True_unmapped\",\n",
    "    # \"moat_bigger_window_adam_chained_lr_5e-05_wd_0.05_special_keys_True_all_64_in_lr_True_unmapped\",\n",
    "    \"moat_default_window_adam_CosineAnnealingLR_lr_0.0001_wd_0.05_special_keys_True_all_128_in_lr_True_unmapped\",\n",
    "    \"coatnet_default_adam_chained_lr_5e-05_partial_wd_0.05_special_keys_True_all_128_in_lr_True_unmapped\"\n",
    "]"
   ]
  },
  {
   "cell_type": "code",
   "execution_count": 4,
   "id": "df84aeba",
   "metadata": {},
   "outputs": [
    {
     "name": "stdout",
     "output_type": "stream",
     "text": [
      "Processing model: moat_default_window_adam_CosineAnnealingLR_lr_0.0001_wd_0.05_special_keys_True_all_128_in_lr_True_unmapped\n",
      "Running Gemini enhancement...\n",
      "Running GPT-OSS enhancement...\n",
      "Results saved to /Users/juliaprzybytniowska/Desktop/interim_coatnet_segmented/all_dataset/moat/moat_default_window_adam_CosineAnnealingLR_lr_0.0001_wd_0.05_special_keys_True_all_128_in_lr_True_unmapped/evaluation.csv\n",
      "Processing model: coatnet_default_adam_chained_lr_5e-05_partial_wd_0.05_special_keys_True_all_128_in_lr_True_unmapped\n",
      "Running Gemini enhancement...\n",
      "Running GPT-OSS enhancement...\n",
      "Results saved to /Users/juliaprzybytniowska/Desktop/interim_coatnet_segmented/all_dataset/coatnet/coatnet_default_adam_chained_lr_5e-05_partial_wd_0.05_special_keys_True_all_128_in_lr_True_unmapped/evaluation.csv\n"
     ]
    }
   ],
   "source": [
    "for model_name in special_best_models:\n",
    "    print(f\"Processing model: {model_name}\")\n",
    "    name = model_name.split('_')[0]\n",
    "    results = process_sentences_with_model(ROOT, MODEL_ROOT, model_name)\n",
    "    # log_predictions(results)\n",
    "    print(\"Running Gemini enhancement...\")\n",
    "    enhanced_results = enhance_predictions_with_llm(results, model_name=\"gemini\", temperature=0.0)\n",
    "    print(\"Running GPT-OSS enhancement...\")\n",
    "    enhanced_results = enhance_predictions_with_llm(enhanced_results, model_name=\"gpt-oss\", temperature=0.0)\n",
    "    save_results(enhanced_results, MODEL_ROOT + \"/\" + name + \"/\" + model_name)\n",
    "    sleep(45)"
   ]
  },
  {
   "cell_type": "code",
   "execution_count": null,
   "id": "cf6a06a8",
   "metadata": {},
   "outputs": [],
   "source": []
  }
 ],
 "metadata": {
  "kernelspec": {
   "display_name": "thesis",
   "language": "python",
   "name": "python3"
  },
  "language_info": {
   "codemirror_mode": {
    "name": "ipython",
    "version": 3
   },
   "file_extension": ".py",
   "mimetype": "text/x-python",
   "name": "python",
   "nbconvert_exporter": "python",
   "pygments_lexer": "ipython3",
   "version": "3.11.11"
  }
 },
 "nbformat": 4,
 "nbformat_minor": 5
}
